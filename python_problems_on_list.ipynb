{
  "nbformat": 4,
  "nbformat_minor": 0,
  "metadata": {
    "colab": {
      "provenance": []
    },
    "kernelspec": {
      "name": "python3",
      "display_name": "Python 3"
    },
    "language_info": {
      "name": "python"
    }
  },
  "cells": [
    {
      "cell_type": "markdown",
      "source": [
        "# Problem Statements: Lists\n"
      ],
      "metadata": {
        "id": "Y7oyYa2ZxKMs"
      }
    },
    {
      "cell_type": "code",
      "execution_count": 1,
      "metadata": {
        "colab": {
          "base_uri": "https://localhost:8080/"
        },
        "id": "wroQ0IZarTBs",
        "outputId": "70a7ebd2-58e9-448b-9820-6e255064c782"
      },
      "outputs": [
        {
          "output_type": "stream",
          "name": "stdout",
          "text": [
            "The sum is: 15\n"
          ]
        }
      ],
      "source": [
        "#Write a Python program to sum all the items in a list\n",
        "def sum_list(items):\n",
        "    return sum(items)\n",
        "\n",
        "my_list = [1, 2, 3, 4, 5]\n",
        "result = sum_list(my_list)\n",
        "print(\"The sum is:\", result)"
      ]
    },
    {
      "cell_type": "code",
      "source": [
        "#Write a Python program to multiplies all the items in a list\n",
        "numbers = [1, 2, 3, 4, 5]\n",
        "result = 1\n",
        "\n",
        "for number in numbers:\n",
        "    result *= number\n",
        "\n",
        "print(result)"
      ],
      "metadata": {
        "colab": {
          "base_uri": "https://localhost:8080/"
        },
        "id": "KwY3FtxZxCv6",
        "outputId": "70fa4429-c75e-48b8-bea0-c78868d09bfb"
      },
      "execution_count": 6,
      "outputs": [
        {
          "output_type": "stream",
          "name": "stdout",
          "text": [
            "120\n"
          ]
        }
      ]
    },
    {
      "cell_type": "code",
      "source": [
        "#Write a Python program to get the largest number from a list.\n",
        "numbers = [3, 5, 1, 8, 2, 7]\n",
        "largest = numbers[0]\n",
        "\n",
        "for number in numbers:\n",
        "    if number > largest:\n",
        "        largest = number\n",
        "\n",
        "print(\"The largest number is:\", largest)"
      ],
      "metadata": {
        "colab": {
          "base_uri": "https://localhost:8080/"
        },
        "id": "PGizC_mfxCyh",
        "outputId": "15c6336a-b1be-4d9a-e73a-95f145eef8d3"
      },
      "execution_count": 7,
      "outputs": [
        {
          "output_type": "stream",
          "name": "stdout",
          "text": [
            "The largest number is: 8\n"
          ]
        }
      ]
    },
    {
      "cell_type": "code",
      "source": [
        "#Write a Python program to count the number of strings where the string lengthis 2 or more and the first and last character are same from a given list of strings.\n",
        "#Sample List : ['abc', 'xyz', 'aba', '1221']\n",
        "#Expected Result : 2\n",
        "def count_matching_strings(string_list):\n",
        "    count = 0\n",
        "    for s in string_list:\n",
        "        if len(s) >= 2 and s[0] == s[-1]:\n",
        "            count += 1\n",
        "    return count\n",
        "\n",
        "sample_list = ['abc', 'xyz', 'aba', '1221']\n",
        "result = count_matching_strings(sample_list)\n",
        "print(result)"
      ],
      "metadata": {
        "colab": {
          "base_uri": "https://localhost:8080/"
        },
        "id": "o9wNke_fxC3u",
        "outputId": "d65c8474-22e0-4d15-dd59-3271bc9fc52e"
      },
      "execution_count": 8,
      "outputs": [
        {
          "output_type": "stream",
          "name": "stdout",
          "text": [
            "2\n"
          ]
        }
      ]
    },
    {
      "cell_type": "code",
      "source": [
        "#Write a Python program to get a list, sorted in increasing order by the last element in each tuple from a given list of non-empty tuples.\n",
        "#Sample List : [(2, 5), (1, 2), (4, 4), (2, 3), (2, 1)]\n",
        "#Expected Result : [(2, 1), (1, 2), (2, 3), (4, 4), (2, 5)]\n",
        "sample_list = [(2, 5), (1, 2), (4, 4), (2, 3), (2, 1)]\n",
        "sorted_list = sorted(sample_list, key=lambda x: x[-1])\n",
        "print(sorted_list)"
      ],
      "metadata": {
        "colab": {
          "base_uri": "https://localhost:8080/"
        },
        "id": "K2Z-UO_UxC6X",
        "outputId": "a3667a20-6e5d-493e-de4b-f8918db00c9e"
      },
      "execution_count": 9,
      "outputs": [
        {
          "output_type": "stream",
          "name": "stdout",
          "text": [
            "[(2, 1), (1, 2), (2, 3), (4, 4), (2, 5)]\n"
          ]
        }
      ]
    },
    {
      "cell_type": "code",
      "source": [
        "#Write a Python program to remove duplicates from a list\n",
        "def remove_duplicates(input_list):\n",
        "    return list(set(input_list))\n",
        "\n",
        "# Example usage\n",
        "my_list = [1, 2, 2, 3, 4, 4, 5]\n",
        "result = remove_duplicates(my_list)\n",
        "print(result)"
      ],
      "metadata": {
        "colab": {
          "base_uri": "https://localhost:8080/"
        },
        "id": "pmQ-ND4HxC9M",
        "outputId": "48909b76-4ccf-407f-9cd3-b5cbfea4e829"
      },
      "execution_count": 10,
      "outputs": [
        {
          "output_type": "stream",
          "name": "stdout",
          "text": [
            "[1, 2, 3, 4, 5]\n"
          ]
        }
      ]
    },
    {
      "cell_type": "code",
      "source": [
        "#Write a Python program to check a list is empty or no\n",
        "def is_list_empty(input_list):\n",
        "    return len(input_list) == 0\n",
        "\n",
        "# Example usage\n",
        "my_list = []\n",
        "if is_list_empty(my_list):\n",
        "    print(\"The list is empty.\")\n",
        "else:\n",
        "    print(\"The list is not empty.\")"
      ],
      "metadata": {
        "colab": {
          "base_uri": "https://localhost:8080/"
        },
        "id": "nRF3exTTxC_o",
        "outputId": "a5842eba-159d-4a4a-c3a8-35838f758837"
      },
      "execution_count": 11,
      "outputs": [
        {
          "output_type": "stream",
          "name": "stdout",
          "text": [
            "The list is empty.\n"
          ]
        }
      ]
    },
    {
      "cell_type": "code",
      "source": [
        "#Write a Python program to clone or copy a list\n",
        "original_list = [1, 2, 3, 4, 5]\n",
        "cloned_list = original_list.copy()\n",
        "print(cloned_list)"
      ],
      "metadata": {
        "colab": {
          "base_uri": "https://localhost:8080/"
        },
        "id": "cwa_0ihbxDCL",
        "outputId": "99a1eedd-0683-445a-dc15-1e722a830d68"
      },
      "execution_count": 12,
      "outputs": [
        {
          "output_type": "stream",
          "name": "stdout",
          "text": [
            "[1, 2, 3, 4, 5]\n"
          ]
        }
      ]
    },
    {
      "cell_type": "code",
      "source": [
        "#Write a Python program to find the list of words that are longer than n from agiven list of words\n",
        "def words_longer_than_n(word_list, n):\n",
        "    return [word for word in word_list if len(word) > n]\n",
        "\n",
        "# Example usage\n",
        "words = [\"apple\", \"banana\", \"cherry\", \"date\", \"fig\", \"grape\"]\n",
        "n = 4\n",
        "result = words_longer_than_n(words, n)\n",
        "print(result)"
      ],
      "metadata": {
        "colab": {
          "base_uri": "https://localhost:8080/"
        },
        "id": "-5wxq6FRxDE1",
        "outputId": "de88c515-d767-4e03-b1bb-b39f72f260e1"
      },
      "execution_count": 13,
      "outputs": [
        {
          "output_type": "stream",
          "name": "stdout",
          "text": [
            "['apple', 'banana', 'cherry', 'grape']\n"
          ]
        }
      ]
    },
    {
      "cell_type": "code",
      "source": [
        "#Write a Python program to print a specified list after removing the 0th, 4th and 5th elements.\n",
        "#Sample List : ['Red', 'Green', 'White', 'Black', 'Pink', 'Yellow']\n",
        "#Expected Output : ['Green', 'White', 'Black']\n",
        "\n",
        "sample_list = ['Red', 'Green', 'White', 'Black', 'Pink', 'Yellow']\n",
        "modified_list = [sample_list[i] for i in range(len(sample_list)) if i not in (0, 4, 5)]\n",
        "print(modified_list)\n"
      ],
      "metadata": {
        "colab": {
          "base_uri": "https://localhost:8080/"
        },
        "id": "VWZ8qen4xoXi",
        "outputId": "5a445e9e-eb14-4601-f707-031bc253cd19"
      },
      "execution_count": 14,
      "outputs": [
        {
          "output_type": "stream",
          "name": "stdout",
          "text": [
            "['Green', 'White', 'Black']\n"
          ]
        }
      ]
    },
    {
      "cell_type": "code",
      "source": [
        "#Write a Python program to generate a 3*4*6 3D array whose each element is *.\n",
        "import numpy as np\n",
        "\n",
        "array_3d = np.full((3, 4, 6), '*')\n",
        "print(array_3d)"
      ],
      "metadata": {
        "colab": {
          "base_uri": "https://localhost:8080/"
        },
        "id": "wUTo9inuxoUD",
        "outputId": "e615517d-2981-46cc-a076-c949af35ce83"
      },
      "execution_count": 15,
      "outputs": [
        {
          "output_type": "stream",
          "name": "stdout",
          "text": [
            "[[['*' '*' '*' '*' '*' '*']\n",
            "  ['*' '*' '*' '*' '*' '*']\n",
            "  ['*' '*' '*' '*' '*' '*']\n",
            "  ['*' '*' '*' '*' '*' '*']]\n",
            "\n",
            " [['*' '*' '*' '*' '*' '*']\n",
            "  ['*' '*' '*' '*' '*' '*']\n",
            "  ['*' '*' '*' '*' '*' '*']\n",
            "  ['*' '*' '*' '*' '*' '*']]\n",
            "\n",
            " [['*' '*' '*' '*' '*' '*']\n",
            "  ['*' '*' '*' '*' '*' '*']\n",
            "  ['*' '*' '*' '*' '*' '*']\n",
            "  ['*' '*' '*' '*' '*' '*']]]\n"
          ]
        }
      ]
    },
    {
      "cell_type": "code",
      "source": [
        "#Write a Python program to print the numbers of a specified list after removingeven numbers from it.\n",
        "def remove_even_numbers(numbers):\n",
        "    return [num for num in numbers if num % 2 != 0]\n",
        "\n",
        "original_list = [1, 2, 3, 4, 5, 6, 7, 8, 9, 10]\n",
        "\n",
        "result = remove_even_numbers(original_list)\n",
        "print(\"Original list:\", original_list)\n",
        "print(\"List after removing even numbers:\", result)"
      ],
      "metadata": {
        "colab": {
          "base_uri": "https://localhost:8080/"
        },
        "id": "vBau60X6xoRd",
        "outputId": "7ea86067-4331-4d24-c2a0-fdb5c791ad13"
      },
      "execution_count": 16,
      "outputs": [
        {
          "output_type": "stream",
          "name": "stdout",
          "text": [
            "Original list: [1, 2, 3, 4, 5, 6, 7, 8, 9, 10]\n",
            "List after removing even numbers: [1, 3, 5, 7, 9]\n"
          ]
        }
      ]
    }
  ]
}