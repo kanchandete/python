{
  "nbformat": 4,
  "nbformat_minor": 0,
  "metadata": {
    "colab": {
      "provenance": []
    },
    "kernelspec": {
      "name": "python3",
      "display_name": "Python 3"
    },
    "language_info": {
      "name": "python"
    }
  },
  "cells": [
    {
      "cell_type": "markdown",
      "source": [
        "# Problem Statements : Loop Control Structures"
      ],
      "metadata": {
        "id": "OIqeeG2Fyf1l"
      }
    },
    {
      "cell_type": "code",
      "source": [
        "#Write a Python program to print all natural numbers from 1 to n. - using while loop\n",
        "n=int(input(\"enter a number:\"))\n",
        "i=1\n",
        "while i<=n:\n",
        "    print(i)\n",
        "    i=i+1"
      ],
      "metadata": {
        "colab": {
          "base_uri": "https://localhost:8080/"
        },
        "id": "Oxezh2_GykMX",
        "outputId": "62a9aaf3-0b51-4547-f1e5-90406c9775a3"
      },
      "execution_count": 6,
      "outputs": [
        {
          "output_type": "stream",
          "name": "stdout",
          "text": [
            "enter a number:5\n",
            "1\n",
            "2\n",
            "3\n",
            "4\n",
            "5\n"
          ]
        }
      ]
    },
    {
      "cell_type": "code",
      "source": [
        "#Write a Python program to print all natural numbers in reverse (from n to 1). - using while loop\n",
        "n=int(input(\"enter a number:\"))\n",
        "while n>=1:\n",
        "    print(n)\n",
        "    n=n-1\n"
      ],
      "metadata": {
        "colab": {
          "base_uri": "https://localhost:8080/"
        },
        "id": "IOzyehSyykO_",
        "outputId": "cb17e6a8-a21d-4689-8afd-71d6c0dc6671"
      },
      "execution_count": 7,
      "outputs": [
        {
          "output_type": "stream",
          "name": "stdout",
          "text": [
            "enter a number:20\n",
            "20\n",
            "19\n",
            "18\n",
            "17\n",
            "16\n",
            "15\n",
            "14\n",
            "13\n",
            "12\n",
            "11\n",
            "10\n",
            "9\n",
            "8\n",
            "7\n",
            "6\n",
            "5\n",
            "4\n",
            "3\n",
            "2\n",
            "1\n"
          ]
        }
      ]
    },
    {
      "cell_type": "code",
      "source": [
        "#Write a Python program to print all alphabets from a to z. - using while loop\n",
        "i=97\n",
        "while i<=122:\n",
        "    print(chr(i))\n",
        "    i=i+1\n"
      ],
      "metadata": {
        "colab": {
          "base_uri": "https://localhost:8080/"
        },
        "id": "QQMpfmKAykSL",
        "outputId": "2ab68ced-e297-4287-a91b-fbece7d0b780"
      },
      "execution_count": 8,
      "outputs": [
        {
          "output_type": "stream",
          "name": "stdout",
          "text": [
            "a\n",
            "b\n",
            "c\n",
            "d\n",
            "e\n",
            "f\n",
            "g\n",
            "h\n",
            "i\n",
            "j\n",
            "k\n",
            "l\n",
            "m\n",
            "n\n",
            "o\n",
            "p\n",
            "q\n",
            "r\n",
            "s\n",
            "t\n",
            "u\n",
            "v\n",
            "w\n",
            "x\n",
            "y\n",
            "z\n"
          ]
        }
      ]
    },
    {
      "cell_type": "code",
      "source": [
        "#Write a Python program to print all even numbers between 1 to 100. - using while loop\n",
        "i=2\n",
        "while i<=100:\n",
        "    print(i)\n",
        "    i=i+2"
      ],
      "metadata": {
        "colab": {
          "base_uri": "https://localhost:8080/"
        },
        "id": "ig_EiAlTykbh",
        "outputId": "450bb6b2-c42e-41bc-b236-92fce9419ef4"
      },
      "execution_count": 9,
      "outputs": [
        {
          "output_type": "stream",
          "name": "stdout",
          "text": [
            "2\n",
            "4\n",
            "6\n",
            "8\n",
            "10\n",
            "12\n",
            "14\n",
            "16\n",
            "18\n",
            "20\n",
            "22\n",
            "24\n",
            "26\n",
            "28\n",
            "30\n",
            "32\n",
            "34\n",
            "36\n",
            "38\n",
            "40\n",
            "42\n",
            "44\n",
            "46\n",
            "48\n",
            "50\n",
            "52\n",
            "54\n",
            "56\n",
            "58\n",
            "60\n",
            "62\n",
            "64\n",
            "66\n",
            "68\n",
            "70\n",
            "72\n",
            "74\n",
            "76\n",
            "78\n",
            "80\n",
            "82\n",
            "84\n",
            "86\n",
            "88\n",
            "90\n",
            "92\n",
            "94\n",
            "96\n",
            "98\n",
            "100\n"
          ]
        }
      ]
    },
    {
      "cell_type": "code",
      "source": [
        "#Write a Python program to print all odd number between 1 to 100.\n",
        "i=1\n",
        "while i<=100:\n",
        "    print(i)\n",
        "    i=i+2"
      ],
      "metadata": {
        "colab": {
          "base_uri": "https://localhost:8080/"
        },
        "id": "ui4fvQiDykd8",
        "outputId": "3699f60b-af10-487e-d7cc-d52868cd7abc"
      },
      "execution_count": 10,
      "outputs": [
        {
          "output_type": "stream",
          "name": "stdout",
          "text": [
            "1\n",
            "3\n",
            "5\n",
            "7\n",
            "9\n",
            "11\n",
            "13\n",
            "15\n",
            "17\n",
            "19\n",
            "21\n",
            "23\n",
            "25\n",
            "27\n",
            "29\n",
            "31\n",
            "33\n",
            "35\n",
            "37\n",
            "39\n",
            "41\n",
            "43\n",
            "45\n",
            "47\n",
            "49\n",
            "51\n",
            "53\n",
            "55\n",
            "57\n",
            "59\n",
            "61\n",
            "63\n",
            "65\n",
            "67\n",
            "69\n",
            "71\n",
            "73\n",
            "75\n",
            "77\n",
            "79\n",
            "81\n",
            "83\n",
            "85\n",
            "87\n",
            "89\n",
            "91\n",
            "93\n",
            "95\n",
            "97\n",
            "99\n"
          ]
        }
      ]
    },
    {
      "cell_type": "code",
      "source": [
        "#Write a Python program to find sum of all natural numbers between 1 to n\n",
        "N = int(input(\"Enter the value of N: \"))\n",
        "\n",
        "count = N\n",
        "total = 0\n",
        "\n",
        "while count:\n",
        "    total += count\n",
        "    count -= 1\n",
        "\n",
        "print(\"The sum of the first\", N, \"natural numbers is:\", total)"
      ],
      "metadata": {
        "colab": {
          "base_uri": "https://localhost:8080/"
        },
        "id": "KFGMwnoEykg7",
        "outputId": "7c967ec9-23c3-4e8f-da98-4c72fa2689a9"
      },
      "execution_count": 11,
      "outputs": [
        {
          "output_type": "stream",
          "name": "stdout",
          "text": [
            "Enter the value of N: 50\n",
            "The sum of the first 50 natural numbers is: 1275\n"
          ]
        }
      ]
    },
    {
      "cell_type": "code",
      "source": [
        "#Write a Python program to find sum of all even numbers between 1 to n\n",
        "n=int(input(\"enter a number:\"))\n",
        "i=2\n",
        "sum=0\n",
        "while i<=n:\n",
        "    sum=sum+i\n",
        "    i=i+2\n",
        "print(sum)"
      ],
      "metadata": {
        "colab": {
          "base_uri": "https://localhost:8080/"
        },
        "id": "S52hJZgJykkK",
        "outputId": "6cb4c3e5-d39e-4a6c-c6c6-04b209e236e2"
      },
      "execution_count": 14,
      "outputs": [
        {
          "output_type": "stream",
          "name": "stdout",
          "text": [
            "enter a number:20\n",
            "110\n"
          ]
        }
      ]
    },
    {
      "cell_type": "code",
      "source": [
        "#Write a Python program to print multiplication table of any number. Take user input.\n",
        "# User-Defined While Loop\n",
        "multiplier = int(input(\"Enter the multiplier: \"))\n",
        "start = 1\n",
        "end = int(input(\"Enter the range end: \"))\n",
        "\n",
        "while start <= end:\n",
        "    result = start * multiplier\n",
        "    print(f\"{start} x {multiplier} = {result}\")\n",
        "    start += 1"
      ],
      "metadata": {
        "colab": {
          "base_uri": "https://localhost:8080/"
        },
        "id": "036OznOPy5ow",
        "outputId": "c71e7720-0153-4e44-e89d-5a0598a20fe3"
      },
      "execution_count": 1,
      "outputs": [
        {
          "output_type": "stream",
          "name": "stdout",
          "text": [
            "Enter the multiplier: 5\n",
            "Enter the range end: 10\n",
            "1 x 5 = 5\n",
            "2 x 5 = 10\n",
            "3 x 5 = 15\n",
            "4 x 5 = 20\n",
            "5 x 5 = 25\n",
            "6 x 5 = 30\n",
            "7 x 5 = 35\n",
            "8 x 5 = 40\n",
            "9 x 5 = 45\n",
            "10 x 5 = 50\n"
          ]
        }
      ]
    },
    {
      "cell_type": "code",
      "source": [
        "#Write a Python program to count number of digits in a number\n",
        "n=int(input(\"enter a number:\"))\n",
        "count=0\n",
        "while n>0:\n",
        "    n=n//10\n",
        "    count=count+1\n",
        "print(count)"
      ],
      "metadata": {
        "colab": {
          "base_uri": "https://localhost:8080/"
        },
        "id": "UHj6J_5ly5rr",
        "outputId": "6a5a8373-cc6c-4ee7-a537-4e14eec1d85f"
      },
      "execution_count": 4,
      "outputs": [
        {
          "output_type": "stream",
          "name": "stdout",
          "text": [
            "enter a number:10\n",
            "2\n"
          ]
        }
      ]
    },
    {
      "cell_type": "code",
      "source": [
        "#Write a Python program to find first and last digit of a number\n",
        "n=int(input(\"enter a number:\"))\n",
        "first_digit=n%10\n",
        "while n>=10:\n",
        "    n=n//10\n",
        "last_digit=n%10\n",
        "print(first_digit)\n",
        "print(last_digit)"
      ],
      "metadata": {
        "colab": {
          "base_uri": "https://localhost:8080/"
        },
        "id": "zyViRVfHy5uU",
        "outputId": "477a0820-a2c9-4eec-8f90-2a8a2d732bc0"
      },
      "execution_count": 15,
      "outputs": [
        {
          "output_type": "stream",
          "name": "stdout",
          "text": [
            "enter a number:30\n",
            "0\n",
            "3\n"
          ]
        }
      ]
    },
    {
      "cell_type": "code",
      "source": [
        "#Write a Python program to find sum of first and last digit of a number.\n",
        "n=int(input(\"enter a number:\"))\n",
        "first_digit=n%10\n",
        "while n>=10:\n",
        "    n=n//10\n",
        "last_digit=n%10\n",
        "sum=first_digit+last_digit\n",
        "print(sum)"
      ],
      "metadata": {
        "colab": {
          "base_uri": "https://localhost:8080/"
        },
        "id": "WdJBbs3sy5xD",
        "outputId": "f6101e53-fede-4e76-ed2b-892dc193bac2"
      },
      "execution_count": 16,
      "outputs": [
        {
          "output_type": "stream",
          "name": "stdout",
          "text": [
            "enter a number:20\n",
            "2\n"
          ]
        }
      ]
    },
    {
      "cell_type": "code",
      "source": [
        "#Write a Python program to swap first and last digits of a number.\n",
        "n=int(input(\"enter a number:\"))\n",
        "first_digit=n%10\n",
        "while n>=10:\n",
        "    n=n//10\n",
        "last_digit=n%10\n",
        "swap=last_digit*10+first_digit\n",
        "print(swap)"
      ],
      "metadata": {
        "colab": {
          "base_uri": "https://localhost:8080/"
        },
        "id": "niJmQnK_y5zs",
        "outputId": "316c6517-126f-476a-c6a4-1bad31403630"
      },
      "execution_count": 17,
      "outputs": [
        {
          "output_type": "stream",
          "name": "stdout",
          "text": [
            "enter a number:25\n",
            "25\n"
          ]
        }
      ]
    },
    {
      "cell_type": "code",
      "source": [
        "#Write a Python program to calculate sum of digits of a number.\n",
        "def getSum(n):\n",
        "\n",
        "    sum = 0\n",
        "    for digit in str(n):\n",
        "      sum += int(digit)\n",
        "    return sum\n",
        "\n",
        "n = 12345\n",
        "print(getSum(n))"
      ],
      "metadata": {
        "colab": {
          "base_uri": "https://localhost:8080/"
        },
        "id": "ar9Wy5Iry52V",
        "outputId": "66665605-6570-4e8f-bf39-c7862afaac88"
      },
      "execution_count": 18,
      "outputs": [
        {
          "output_type": "stream",
          "name": "stdout",
          "text": [
            "15\n"
          ]
        }
      ]
    }
  ]
}