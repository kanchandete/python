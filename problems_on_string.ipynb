{
  "nbformat": 4,
  "nbformat_minor": 0,
  "metadata": {
    "colab": {
      "provenance": []
    },
    "kernelspec": {
      "name": "python3",
      "display_name": "Python 3"
    },
    "language_info": {
      "name": "python"
    }
  },
  "cells": [
    {
      "cell_type": "code",
      "execution_count": 3,
      "metadata": {
        "id": "84rRS631Gx4o",
        "colab": {
          "base_uri": "https://localhost:8080/"
        },
        "outputId": "2a7a6a0a-5316-412c-abbf-68e85d7e238b"
      },
      "outputs": [
        {
          "output_type": "execute_result",
          "data": {
            "text/plain": [
              "7"
            ]
          },
          "metadata": {},
          "execution_count": 3
        }
      ],
      "source": [
        "#Write a Python program to calculate the length of a string\n",
        "\n",
        "str = (\"Kanchan\")\n",
        "len(str)"
      ]
    },
    {
      "cell_type": "code",
      "source": [
        "#Write a Python program to count the number of characters in a string.\n",
        "#Sample String : google.com'\n",
        "#Expected Result : [(0, 'g'), (1, 'o'), (2, 'o'), (3, 'g'), (4, 'l'), (5, 'e'), (6, '.'), (7, 'c'), (8, 'o'), (9, 'm')]\n",
        "print(list(enumerate('google.com')))"
      ],
      "metadata": {
        "id": "eKR8owtqG6m-",
        "colab": {
          "base_uri": "https://localhost:8080/"
        },
        "outputId": "fff34ede-2587-4dc6-9445-566ac3323dc9"
      },
      "execution_count": 4,
      "outputs": [
        {
          "output_type": "stream",
          "name": "stdout",
          "text": [
            "[(0, 'g'), (1, 'o'), (2, 'o'), (3, 'g'), (4, 'l'), (5, 'e'), (6, '.'), (7, 'c'), (8, 'o'), (9, 'm')]\n"
          ]
        }
      ]
    },
    {
      "cell_type": "code",
      "source": [
        "#Write a Python program to get a string from a given string where all occurrences of its first char have been changed to '$', except the first char itself.\n",
        "#Sample String : 'restart'\n",
        "#Expected Result : 'resta$t'\n",
        "s = 'restart'\n",
        "s[0] + s[1:].replace(s[0], '$')"
      ],
      "metadata": {
        "id": "eB1K-2o5G6tG",
        "colab": {
          "base_uri": "https://localhost:8080/",
          "height": 35
        },
        "outputId": "ff47b39c-4f8e-4792-a578-e4d9bd9fd6bb"
      },
      "execution_count": 5,
      "outputs": [
        {
          "output_type": "execute_result",
          "data": {
            "text/plain": [
              "'resta$t'"
            ],
            "application/vnd.google.colaboratory.intrinsic+json": {
              "type": "string"
            }
          },
          "metadata": {},
          "execution_count": 5
        }
      ]
    },
    {
      "cell_type": "code",
      "source": [
        "#Write a Python program to get a single string from two given strings, separatedby a space and swap the first two characters of each string.\n",
        "#Sample String : 'abc', 'xyz'\n",
        "#Expected Result : 'xyc abz'\n",
        "a = 'abc'\n",
        "b = 'xyz'\n",
        "new_a = b[:2] + a[2:]\n",
        "new_b = a[:2] + b[2:]\n",
        "new_a + ' ' + new_b"
      ],
      "metadata": {
        "id": "g8Ti4GgXG6zT",
        "colab": {
          "base_uri": "https://localhost:8080/",
          "height": 35
        },
        "outputId": "9b0c237a-34c5-4987-9fbc-5ec3a01490be"
      },
      "execution_count": 6,
      "outputs": [
        {
          "output_type": "execute_result",
          "data": {
            "text/plain": [
              "'xyc abz'"
            ],
            "application/vnd.google.colaboratory.intrinsic+json": {
              "type": "string"
            }
          },
          "metadata": {},
          "execution_count": 6
        }
      ]
    },
    {
      "cell_type": "code",
      "source": [
        "#Write a Python program to add 'ing' at the end of a given string (length should be at least 3). If the given string already ends with 'ing' then add 'ly' instead. If thestring length of the given string is less than 3, leave it unchanged.\n",
        "#Sample String : 'abc'\n",
        "#Expected Result : 'abcing'\n",
        "#Sample String : 'string'\n",
        "#Expected Result : 'stringly\n",
        "s = 'abc'\n",
        "s += 'ing'\n",
        "print(s)"
      ],
      "metadata": {
        "id": "TDoEf4l3G62l",
        "colab": {
          "base_uri": "https://localhost:8080/"
        },
        "outputId": "2eb89f32-90e7-4b55-8cc7-ee9a2f2bdd34"
      },
      "execution_count": 7,
      "outputs": [
        {
          "output_type": "stream",
          "name": "stdout",
          "text": [
            "abcing\n"
          ]
        }
      ]
    },
    {
      "cell_type": "code",
      "source": [
        "s = 'string'\n",
        "s += 'ly'\n",
        "print(s)"
      ],
      "metadata": {
        "id": "w6gUWw_gG65o",
        "colab": {
          "base_uri": "https://localhost:8080/"
        },
        "outputId": "a071cb07-a996-46cc-c7ec-09cbac19d8c3"
      },
      "execution_count": 8,
      "outputs": [
        {
          "output_type": "stream",
          "name": "stdout",
          "text": [
            "stringly\n"
          ]
        }
      ]
    },
    {
      "cell_type": "code",
      "source": [
        "#Write a Python program to find the first appearance of the substring 'not' and 'poor' from a given string, if 'bad' follows the 'poor', replace the whole 'not'...'poor' substring with 'good'. Return the resulting string.\n",
        "#Sample String : 'The lyrics is not that poor!'\n",
        "#Expected Result : 'The lyrics is good!'\n",
        "s = 'The lyrics is not that poor!'\n",
        "s = s.replace('not that poor', 'good')\n",
        "print(s)"
      ],
      "metadata": {
        "id": "uH45a4bSG68c",
        "colab": {
          "base_uri": "https://localhost:8080/"
        },
        "outputId": "f5a66ee6-0529-4ee5-c9b0-4e37365d0296"
      },
      "execution_count": 9,
      "outputs": [
        {
          "output_type": "stream",
          "name": "stdout",
          "text": [
            "The lyrics is good!\n"
          ]
        }
      ]
    },
    {
      "cell_type": "code",
      "source": [
        "#Write a Python function that takes a list of words and returns the length of the longest one.\n",
        "a = ('kanchan','sakshi','shivraj','dipali')\n",
        "longest = max(a, key=len)\n",
        "print(longest)"
      ],
      "metadata": {
        "colab": {
          "base_uri": "https://localhost:8080/"
        },
        "id": "pEFInRpSM3En",
        "outputId": "96a97a33-5144-4824-bfd7-9be67c426276"
      },
      "execution_count": 14,
      "outputs": [
        {
          "output_type": "stream",
          "name": "stdout",
          "text": [
            "kanchan\n"
          ]
        }
      ]
    },
    {
      "cell_type": "code",
      "source": [
        "#Write a Python script that takes input from the user and displays that input back in upper and lower cases.\n",
        "a = input(\"Enter a string: \")\n",
        "print(a.upper())\n",
        "print(a.lower())"
      ],
      "metadata": {
        "colab": {
          "base_uri": "https://localhost:8080/"
        },
        "id": "F0E4dPg3N2QK",
        "outputId": "9755cbca-8eff-42a3-9779-5d41679aa238"
      },
      "execution_count": 20,
      "outputs": [
        {
          "output_type": "stream",
          "name": "stdout",
          "text": [
            "Enter a string: KANCHAN\n",
            "KANCHAN\n",
            "kanchan\n"
          ]
        }
      ]
    },
    {
      "cell_type": "code",
      "source": [
        "#Write a Python program that accepts a comma separated sequence of words as input and prints the unique words in sorted form (alphanumerically).\n",
        "#Sample Words : red, white, black, red, green, black\n",
        "#Expected Result : black, green, red, white\n",
        "items = input(\"Input comma separated sequence of words:\")\n",
        "words = [word for word in items.split(\",\")]\n",
        "print(\",\".join(sorted(list(set(words)))))"
      ],
      "metadata": {
        "colab": {
          "base_uri": "https://localhost:8080/"
        },
        "id": "TOOsxoW-N2KK",
        "outputId": "90faf760-3cdd-49f1-db7b-23b05ace5d76"
      },
      "execution_count": 23,
      "outputs": [
        {
          "output_type": "stream",
          "name": "stdout",
          "text": [
            "Input comma separated sequence of words:red,white,black,red,green,black\n",
            "black,green,red,white\n"
          ]
        }
      ]
    },
    {
      "cell_type": "code",
      "source": [
        "#Write a Python function to create the HTML string with tags around the word(s). Sample function and result :\n",
        "#add_tags('i', 'Python') -> '<i>Python</i>'\n",
        "#add_tags('b', 'Python Tutorial') -> '<b>Python Tutorial </b>'\n",
        "add_tags = lambda tag, word: f\"<{tag}>{word}</{tag}>\"\n",
        "print(add_tags('i', 'Python'))\n",
        "print(add_tags('b', 'Python Tutorial'))"
      ],
      "metadata": {
        "colab": {
          "base_uri": "https://localhost:8080/"
        },
        "id": "gN784qtGN2E4",
        "outputId": "67715ec2-8901-4340-fc10-93a7078ff41c"
      },
      "execution_count": 25,
      "outputs": [
        {
          "output_type": "stream",
          "name": "stdout",
          "text": [
            "<i>Python</i>\n",
            "<b>Python Tutorial</b>\n"
          ]
        }
      ]
    },
    {
      "cell_type": "code",
      "source": [
        "#Write a Python function to insert a string in the middle of a string. Sample function and result :\n",
        "#insert_sting_middle('[[]]<<>>', 'Python') -> [[Python]]\n",
        "#insert_sting_middle('{{}}', 'PHP') -> {{PHP}}\n",
        "insert_sting_middle = lambda x, y: x[:2] + y + x[2:]\n",
        "print(insert_sting_middle('[[]]', 'Python'))\n",
        "print(insert_sting_middle('{{}}', 'PHP'))"
      ],
      "metadata": {
        "colab": {
          "base_uri": "https://localhost:8080/"
        },
        "id": "zX0aJldGN2CL",
        "outputId": "5122996e-b59d-4048-dfc4-f31372b1b383"
      },
      "execution_count": 26,
      "outputs": [
        {
          "output_type": "stream",
          "name": "stdout",
          "text": [
            "[[Python]]\n",
            "{{PHP}}\n"
          ]
        }
      ]
    },
    {
      "cell_type": "code",
      "source": [
        "#Write a Python function to get a string made of 4 copies of the last two characters of a specified string (length must be at least 2). Sample function and result :\n",
        "#insert_end('Python') -> onononon\n",
        "#insert_end('Exercises') -> eseseses\n",
        "insert_end = lambda str: str[-2:] * 4\n",
        "print(insert_end('Python'))\n",
        "print(insert_end('Exercises'))"
      ],
      "metadata": {
        "colab": {
          "base_uri": "https://localhost:8080/"
        },
        "id": "I8UFkI7zN18k",
        "outputId": "f73fd68f-18cb-4458-e409-4f6766b01ce0"
      },
      "execution_count": 28,
      "outputs": [
        {
          "output_type": "stream",
          "name": "stdout",
          "text": [
            "onononon\n",
            "eseseses\n"
          ]
        }
      ]
    },
    {
      "cell_type": "code",
      "source": [
        "#Write a Python function to get a string made of its first three characters of a specified string. If the length of the string is less than 3 then return the original string. Sample function and result :\n",
        "#first_three('ipy') -> ipy\n",
        "#first_three('python') -> pyt\n",
        "first_three = lambda str: str[:3] if len(str) > 3 else str\n",
        "print(first_three('ipy'))\n",
        "print(first_three('python'))"
      ],
      "metadata": {
        "colab": {
          "base_uri": "https://localhost:8080/"
        },
        "id": "8Trv3CNhN159",
        "outputId": "c2dabf84-7781-40b7-f23b-cb441453480f"
      },
      "execution_count": 29,
      "outputs": [
        {
          "output_type": "stream",
          "name": "stdout",
          "text": [
            "ipy\n",
            "pyt\n"
          ]
        }
      ]
    },
    {
      "cell_type": "code",
      "source": [
        "#Write a Python function to reverses a string if it's length is a multiple of 4\n",
        "s = 'Kanchan'\n",
        "s[::-1]"
      ],
      "metadata": {
        "colab": {
          "base_uri": "https://localhost:8080/",
          "height": 35
        },
        "id": "jPeZvI-FN10D",
        "outputId": "2fa0646f-2c65-43c0-fbd2-6df96ef7f79e"
      },
      "execution_count": 32,
      "outputs": [
        {
          "output_type": "execute_result",
          "data": {
            "text/plain": [
              "'nahcnaK'"
            ],
            "application/vnd.google.colaboratory.intrinsic+json": {
              "type": "string"
            }
          },
          "metadata": {},
          "execution_count": 32
        }
      ]
    },
    {
      "cell_type": "code",
      "source": [
        "#Write a Python function to convert a given string to all uppercase if it contains at least 2 uppercase characters in the first 4 characters\n",
        "a = 'Kanchan'\n",
        "a.upper()"
      ],
      "metadata": {
        "colab": {
          "base_uri": "https://localhost:8080/",
          "height": 35
        },
        "id": "7AmsYZ2SRcpp",
        "outputId": "af8c8e3a-f6a2-4fa0-c5c3-78fa92c6f062"
      },
      "execution_count": 34,
      "outputs": [
        {
          "output_type": "execute_result",
          "data": {
            "text/plain": [
              "'KANCHAN'"
            ],
            "application/vnd.google.colaboratory.intrinsic+json": {
              "type": "string"
            }
          },
          "metadata": {},
          "execution_count": 34
        }
      ]
    },
    {
      "cell_type": "code",
      "source": [
        "#Write a Python program to sort a string lexicographically\n",
        "a = 'Kanchan'\n",
        "sorted(a)"
      ],
      "metadata": {
        "colab": {
          "base_uri": "https://localhost:8080/"
        },
        "id": "IsBgHBAmRcm6",
        "outputId": "ba9f7bf5-fcd5-4ce4-c4c8-8546a4ef9b5e"
      },
      "execution_count": 35,
      "outputs": [
        {
          "output_type": "execute_result",
          "data": {
            "text/plain": [
              "['K', 'a', 'a', 'c', 'h', 'n', 'n']"
            ]
          },
          "metadata": {},
          "execution_count": 35
        }
      ]
    },
    {
      "cell_type": "code",
      "source": [
        "#Write a Python program to remove a newline in Python\n",
        "str1='Python Exercises\\n'\n",
        "print(str1)\n",
        "print(str1.rstrip())"
      ],
      "metadata": {
        "colab": {
          "base_uri": "https://localhost:8080/"
        },
        "id": "vDc7bVf2RckN",
        "outputId": "22418d43-8565-4b2d-ebcd-5cdbd294dab9"
      },
      "execution_count": 36,
      "outputs": [
        {
          "output_type": "stream",
          "name": "stdout",
          "text": [
            "Python Exercises\n",
            "\n",
            "Python Exercises\n"
          ]
        }
      ]
    },
    {
      "cell_type": "code",
      "source": [
        "#Write a Python program to check whether a string starts with specified characters.\n",
        "string = \"Kanchan\"\n",
        "print(string.startswith(\"K\"))"
      ],
      "metadata": {
        "colab": {
          "base_uri": "https://localhost:8080/"
        },
        "id": "Ug1EXiFqRcex",
        "outputId": "73edf110-f91b-41fe-a6f4-b4c005e5895a"
      },
      "execution_count": 38,
      "outputs": [
        {
          "output_type": "stream",
          "name": "stdout",
          "text": [
            "True\n"
          ]
        }
      ]
    },
    {
      "cell_type": "code",
      "source": [
        "#Write a Python program to display formatted text (width=50) as output\n",
        "s = \"Python Exercises\\n\"\n",
        "print(s.lstrip())"
      ],
      "metadata": {
        "colab": {
          "base_uri": "https://localhost:8080/"
        },
        "id": "1oDr-SHsSAWX",
        "outputId": "c462b089-c3b6-4491-ff06-ee2ab39e3474"
      },
      "execution_count": 40,
      "outputs": [
        {
          "output_type": "stream",
          "name": "stdout",
          "text": [
            "Python Exercises\n",
            "\n"
          ]
        }
      ]
    },
    {
      "cell_type": "code",
      "source": [
        "#Write a Python program to remove existing indentation from all of the lines ina given text.\n",
        "a = 'kanchan Dete\\n'\n",
        "print(a.rstrip())"
      ],
      "metadata": {
        "colab": {
          "base_uri": "https://localhost:8080/"
        },
        "id": "ayNhSIJWSATE",
        "outputId": "4c60a312-5145-4877-ed73-51a3e3062671"
      },
      "execution_count": 42,
      "outputs": [
        {
          "output_type": "stream",
          "name": "stdout",
          "text": [
            "kanchan Dete\n"
          ]
        }
      ]
    },
    {
      "cell_type": "code",
      "source": [
        "# Write a Python program to add a prefix text to all of the lines in a string\n",
        "import textwrap\n",
        "a = 'kanchan Dete\\n'\n",
        "print(textwrap.indent(a, '>'))"
      ],
      "metadata": {
        "colab": {
          "base_uri": "https://localhost:8080/"
        },
        "id": "10VCLFoYSANr",
        "outputId": "534889c4-555f-4a0a-e69a-d8b4ab53d46e"
      },
      "execution_count": 44,
      "outputs": [
        {
          "output_type": "stream",
          "name": "stdout",
          "text": [
            ">kanchan Dete\n",
            "\n"
          ]
        }
      ]
    },
    {
      "cell_type": "code",
      "source": [
        "#Write a Python program to set the indentation of the first line.\n",
        "import textwrap\n",
        "a = 'kanchan Dete\\n'\n",
        "print(textwrap.dedent(a))"
      ],
      "metadata": {
        "colab": {
          "base_uri": "https://localhost:8080/"
        },
        "id": "Ok1k0U_MSAKy",
        "outputId": "282c3b2f-9f11-478e-f701-d01daeeb5fbf"
      },
      "execution_count": 45,
      "outputs": [
        {
          "output_type": "stream",
          "name": "stdout",
          "text": [
            "kanchan Dete\n",
            "\n"
          ]
        }
      ]
    },
    {
      "cell_type": "code",
      "source": [
        "#Write a Python program to print the following floating numbers upto 2 decimal places.\n",
        "x = 3.1415926\n",
        "print('%.2f' % x)"
      ],
      "metadata": {
        "colab": {
          "base_uri": "https://localhost:8080/"
        },
        "id": "c2c3UWrLSAH5",
        "outputId": "9d135a88-3b66-4d69-d60b-b1454a077328"
      },
      "execution_count": 46,
      "outputs": [
        {
          "output_type": "stream",
          "name": "stdout",
          "text": [
            "3.14\n"
          ]
        }
      ]
    },
    {
      "cell_type": "code",
      "source": [
        "#Write a Python program to print the following floating numbers with no decimal places.\n",
        "x = 3.1415926\n",
        "print('%.0f' % x)"
      ],
      "metadata": {
        "colab": {
          "base_uri": "https://localhost:8080/"
        },
        "id": "59bEJ8KfSAC-",
        "outputId": "6d91ec6e-4b7d-4364-d3cc-975df660df8d"
      },
      "execution_count": 48,
      "outputs": [
        {
          "output_type": "stream",
          "name": "stdout",
          "text": [
            "3\n"
          ]
        }
      ]
    },
    {
      "cell_type": "code",
      "source": [
        "#Write a Python program to print the following integers with zeros on the left ofspecified width.\n",
        "x = 3\n",
        "print('{:0>2d}'.format(x))"
      ],
      "metadata": {
        "colab": {
          "base_uri": "https://localhost:8080/"
        },
        "id": "lh_jGd5NSAAF",
        "outputId": "59692643-0b07-4d51-e749-baa9d6ab8c86"
      },
      "execution_count": 49,
      "outputs": [
        {
          "output_type": "stream",
          "name": "stdout",
          "text": [
            "03\n"
          ]
        }
      ]
    },
    {
      "cell_type": "code",
      "source": [
        "#Write a Python program to print the following integers with '*' on the right of specified width.\n",
        "x = 3\n",
        "print('{:*<4d}'.format(x))"
      ],
      "metadata": {
        "colab": {
          "base_uri": "https://localhost:8080/"
        },
        "id": "NeUwVo7PR_9O",
        "outputId": "23f848bf-a99b-423f-8b89-8a6d2a6f459f"
      },
      "execution_count": 50,
      "outputs": [
        {
          "output_type": "stream",
          "name": "stdout",
          "text": [
            "3***\n"
          ]
        }
      ]
    },
    {
      "cell_type": "code",
      "source": [
        "#Write a Python program to display a number with a comma separator.\n",
        "x = 3000000\n",
        "print(\"{:,}\".format(x))"
      ],
      "metadata": {
        "colab": {
          "base_uri": "https://localhost:8080/"
        },
        "id": "yo-JWr-hTf1f",
        "outputId": "6cc4aa48-ec88-42b5-ed5b-ac73aaa19946"
      },
      "execution_count": 51,
      "outputs": [
        {
          "output_type": "stream",
          "name": "stdout",
          "text": [
            "3,000,000\n"
          ]
        }
      ]
    },
    {
      "cell_type": "code",
      "source": [
        "#Write a Python program to format a number with a percentage\n",
        "x = 0.25\n",
        "print(\"{:.2%}\".format(x));"
      ],
      "metadata": {
        "colab": {
          "base_uri": "https://localhost:8080/"
        },
        "id": "OKW00FyZTfx_",
        "outputId": "a76d4b78-7464-464c-b92f-93f4f9b12f8a"
      },
      "execution_count": 52,
      "outputs": [
        {
          "output_type": "stream",
          "name": "stdout",
          "text": [
            "25.00%\n"
          ]
        }
      ]
    },
    {
      "cell_type": "code",
      "source": [
        "#Write a Python program to display a number in left, right and center aligned of width 10.\n",
        "x = 3.1415926\n",
        "print('%.2f' % x)"
      ],
      "metadata": {
        "colab": {
          "base_uri": "https://localhost:8080/"
        },
        "id": "Q6kpuhzHTfvT",
        "outputId": "1a8d5cdd-961a-44d8-d8e5-d5a4bd0d4ede"
      },
      "execution_count": 53,
      "outputs": [
        {
          "output_type": "stream",
          "name": "stdout",
          "text": [
            "3.14\n"
          ]
        }
      ]
    },
    {
      "cell_type": "code",
      "source": [
        "#Write a Python program to count occurrences of a substring in a string\n",
        "str1 = 'The quick brown fox jumps over the lazy dog.'\n",
        "print()\n",
        "print(str1.count(\"fox\"))\n",
        "print()"
      ],
      "metadata": {
        "colab": {
          "base_uri": "https://localhost:8080/"
        },
        "id": "oZdM0FrJTfbN",
        "outputId": "ddb1c48a-9e3e-4d55-c851-f0dd7fde14b9"
      },
      "execution_count": 54,
      "outputs": [
        {
          "output_type": "stream",
          "name": "stdout",
          "text": [
            "\n",
            "1\n",
            "\n"
          ]
        }
      ]
    },
    {
      "cell_type": "code",
      "source": [
        "#Write a Python program to reverse a string.\n",
        "a = 'Kanchan'\n",
        "a[::-1]"
      ],
      "metadata": {
        "colab": {
          "base_uri": "https://localhost:8080/",
          "height": 35
        },
        "id": "pUe0Hj0_TfX2",
        "outputId": "16a3e6f9-c651-434b-a639-d988a4c5cb09"
      },
      "execution_count": 55,
      "outputs": [
        {
          "output_type": "execute_result",
          "data": {
            "text/plain": [
              "'nahcnaK'"
            ],
            "application/vnd.google.colaboratory.intrinsic+json": {
              "type": "string"
            }
          },
          "metadata": {},
          "execution_count": 55
        }
      ]
    },
    {
      "cell_type": "code",
      "source": [
        "#Write a Python program to reverse words in a string\n",
        "a = 'Kanchan Dete'\n",
        "a[::-1]"
      ],
      "metadata": {
        "colab": {
          "base_uri": "https://localhost:8080/",
          "height": 35
        },
        "id": "6O-qF9CtUPfY",
        "outputId": "3dc93543-baea-4402-d101-dfab2a460b8d"
      },
      "execution_count": 58,
      "outputs": [
        {
          "output_type": "execute_result",
          "data": {
            "text/plain": [
              "'eteD nahcnaK'"
            ],
            "application/vnd.google.colaboratory.intrinsic+json": {
              "type": "string"
            }
          },
          "metadata": {},
          "execution_count": 58
        }
      ]
    },
    {
      "cell_type": "code",
      "source": [
        "#Write a Python program to convert a string in a list.\n",
        "a = 'Kanchan'\n",
        "list(a)"
      ],
      "metadata": {
        "colab": {
          "base_uri": "https://localhost:8080/"
        },
        "id": "ybSy2g3FWSBq",
        "outputId": "0d0936bf-1337-48b1-c5fb-15ba121ce50e"
      },
      "execution_count": 70,
      "outputs": [
        {
          "output_type": "execute_result",
          "data": {
            "text/plain": [
              "['K', 'a', 'n', 'c', 'h', 'a', 'n']"
            ]
          },
          "metadata": {},
          "execution_count": 70
        }
      ]
    },
    {
      "cell_type": "code",
      "source": [
        "#Write a Python program to lowercase first n characters in a string\n",
        "a = 'KANCHAN'\n",
        "a.lower()"
      ],
      "metadata": {
        "colab": {
          "base_uri": "https://localhost:8080/",
          "height": 35
        },
        "id": "FXP7L2GiWR8M",
        "outputId": "bc8ae768-d35b-4a43-e63c-3c9bbc1d1628"
      },
      "execution_count": 71,
      "outputs": [
        {
          "output_type": "execute_result",
          "data": {
            "text/plain": [
              "'kanchan'"
            ],
            "application/vnd.google.colaboratory.intrinsic+json": {
              "type": "string"
            }
          },
          "metadata": {},
          "execution_count": 71
        }
      ]
    }
  ]
}