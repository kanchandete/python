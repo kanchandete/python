{
  "nbformat": 4,
  "nbformat_minor": 0,
  "metadata": {
    "colab": {
      "provenance": []
    },
    "kernelspec": {
      "name": "python3",
      "display_name": "Python 3"
    },
    "language_info": {
      "name": "python"
    }
  },
  "cells": [
    {
      "cell_type": "code",
      "source": [
        "#Write a Python program to calculate product of digits of a number\n",
        "def product_of_digits(number):\n",
        "    product = 1\n",
        "    while number > 0:\n",
        "        digit = number % 10\n",
        "        product *= digit\n",
        "        number //= 10\n",
        "    return product\n",
        "\n",
        "number = int(input(\"Enter a number: \"))\n",
        "result = product_of_digits(number)\n",
        "print(\"Product of digits:\", result)"
      ],
      "metadata": {
        "colab": {
          "base_uri": "https://localhost:8080/"
        },
        "id": "Op0f3d1If5fa",
        "outputId": "9750e4bb-0c43-4cab-fd7d-d7efc5972e4f"
      },
      "execution_count": 5,
      "outputs": [
        {
          "output_type": "stream",
          "name": "stdout",
          "text": [
            "Enter a number: 400\n",
            "Product of digits: 0\n"
          ]
        }
      ]
    },
    {
      "cell_type": "code",
      "execution_count": 7,
      "metadata": {
        "colab": {
          "base_uri": "https://localhost:8080/"
        },
        "id": "y4OZgcieYR2f",
        "outputId": "b49c8fca-7e0e-416e-b639-871229c07d41"
      },
      "outputs": [
        {
          "output_type": "stream",
          "name": "stdout",
          "text": [
            "Enter a number:45\n",
            "Reverse of the number: 54\n"
          ]
        }
      ],
      "source": [
        "#Write a Python program to enter a number and print its reverse.\n",
        "n=int(input(\"Enter a number:\"))\n",
        "rev=0\n",
        "while(n>0):\n",
        "    dig=n%10\n",
        "    rev=rev*10+dig\n",
        "    n=n//10\n",
        "print(\"Reverse of the number:\",rev)"
      ]
    },
    {
      "cell_type": "code",
      "source": [
        "#Write a Python program to check whether a number is palindrome or not.\n",
        "n = int(input(\"Enter a number: \"))\n",
        "temp = n\n",
        "rev = 0\n",
        "while n > 0:\n",
        "    dig = n % 10\n",
        "    rev = rev * 10 + dig\n",
        "    n = n // 10\n",
        "if temp == rev:\n",
        "    print(\"The number is a palindrome!\")\n",
        "else:\n",
        "    print(\"The number isn't a palindrome!\")"
      ],
      "metadata": {
        "colab": {
          "base_uri": "https://localhost:8080/"
        },
        "id": "KLJ5hnC7f5h-",
        "outputId": "33801477-2022-4d8e-83ff-0f8799d126b9"
      },
      "execution_count": 12,
      "outputs": [
        {
          "output_type": "stream",
          "name": "stdout",
          "text": [
            "Enter a number: 22\n",
            "The number is a palindrome!\n"
          ]
        }
      ]
    },
    {
      "cell_type": "code",
      "source": [
        "#Write a Python program to find frequency of each digit in a given integer.\n",
        "n=int(input(\"Enter a number:\"))\n",
        "count=0\n",
        "while(n>0):\n",
        "    count=count+1\n",
        "    n=n//10\n",
        "print(\"The number of digits in the number are:\",count)"
      ],
      "metadata": {
        "colab": {
          "base_uri": "https://localhost:8080/"
        },
        "id": "jRiWLjGRf5kv",
        "outputId": "f0bd97fd-c962-48ef-fca1-4862913e9d68"
      },
      "execution_count": 13,
      "outputs": [
        {
          "output_type": "stream",
          "name": "stdout",
          "text": [
            "Enter a number:40\n",
            "The number of digits in the number are: 2\n"
          ]
        }
      ]
    },
    {
      "cell_type": "code",
      "source": [
        "# Write a Python program to find power of a number using for loop\n",
        "base = int(input(\"Enter the base: \"))\n",
        "exponent = int(input(\"Enter the exponent: \"))\n",
        "\n",
        "result = 1\n",
        "\n",
        "for _ in range(exponent):\n",
        "    result *= base\n",
        "\n",
        "print(f\"{base} raised to the power of {exponent} is: {result}\")"
      ],
      "metadata": {
        "colab": {
          "base_uri": "https://localhost:8080/"
        },
        "id": "WfSe3RlKf5qc",
        "outputId": "43011f96-1f5f-4f1f-9f14-262ff88fe7e4"
      },
      "execution_count": 18,
      "outputs": [
        {
          "output_type": "stream",
          "name": "stdout",
          "text": [
            "Enter the base: 50\n",
            "Enter the exponent: 3\n",
            "50 raised to the power of 3 is: 125000\n"
          ]
        }
      ]
    },
    {
      "cell_type": "code",
      "source": [
        "# Write a Python program to calculate factorial of a number\n",
        "n=int(input(\"Enter a number:\"))\n",
        "fact=1\n",
        "while(n>0):\n",
        "    fact=fact*n\n",
        "    n=n-1\n",
        "print(\"Factorial of the number is:\",fact)"
      ],
      "metadata": {
        "colab": {
          "base_uri": "https://localhost:8080/"
        },
        "id": "WdO3fivcf5tg",
        "outputId": "37048f51-03f4-4dab-b502-ed0cdf8c10cf"
      },
      "execution_count": 19,
      "outputs": [
        {
          "output_type": "stream",
          "name": "stdout",
          "text": [
            "Enter a number:200\n",
            "Factorial of the number is: 788657867364790503552363213932185062295135977687173263294742533244359449963403342920304284011984623904177212138919638830257642790242637105061926624952829931113462857270763317237396988943922445621451664240254033291864131227428294853277524242407573903240321257405579568660226031904170324062351700858796178922222789623703897374720000000000000000000000000000000000000000000000000\n"
          ]
        }
      ]
    },
    {
      "cell_type": "code",
      "source": [
        "#Write a Python program to find HCF (GCD) of two numbers\n",
        "n=int(input(\"Enter first number:\"))\n",
        "m=int(input(\"Enter second number:\"))\n",
        "gcd=1\n",
        "for i in range(1,min(n,m)):\n",
        "    if n%i==0 and m%i==0:\n",
        "        gcd=i\n",
        "print(\"GCD is:\",gcd)"
      ],
      "metadata": {
        "colab": {
          "base_uri": "https://localhost:8080/"
        },
        "id": "IAmA9pS-f5v1",
        "outputId": "f3031fa3-a8e5-492d-f3de-e1c95f0e61a2"
      },
      "execution_count": 20,
      "outputs": [
        {
          "output_type": "stream",
          "name": "stdout",
          "text": [
            "Enter first number:50\n",
            "Enter second number:20\n",
            "GCD is: 10\n"
          ]
        }
      ]
    },
    {
      "cell_type": "code",
      "source": [
        "# Write a Python program to find LCM of two numbers\n",
        "n=int(input(\"Enter first number:\"))\n",
        "m=int(input(\"Enter second number:\"))\n",
        "for i in range(max(n,m),1+(n*m)):\n",
        "    if i%n==i%m==0:\n",
        "        print(\"LCM is:\",i)\n",
        "        break"
      ],
      "metadata": {
        "colab": {
          "base_uri": "https://localhost:8080/"
        },
        "id": "P1LmhehYf5yi",
        "outputId": "9f0ceaac-2d9c-45aa-dd60-0e232923359d"
      },
      "execution_count": 21,
      "outputs": [
        {
          "output_type": "stream",
          "name": "stdout",
          "text": [
            "Enter first number:55\n",
            "Enter second number:22\n",
            "LCM is: 110\n"
          ]
        }
      ]
    },
    {
      "cell_type": "code",
      "source": [
        "# Write a Python program to check whether a number is Prime number or not\n",
        "n=int(input(\"Enter a number:\"))\n",
        "k=0\n",
        "for i in range(2,n//2+1):\n",
        "    if n%i==0:\n",
        "        k=k+1\n",
        "if k<=0:\n",
        "    print(\"Number is prime\")\n",
        "else:\n",
        "    print(\"Number isn't prime\")"
      ],
      "metadata": {
        "colab": {
          "base_uri": "https://localhost:8080/"
        },
        "id": "s0iTG_e9f51D",
        "outputId": "bb7041d0-03a6-4350-a900-185d1eefde80"
      },
      "execution_count": 23,
      "outputs": [
        {
          "output_type": "stream",
          "name": "stdout",
          "text": [
            "Enter a number:40\n",
            "Number isn't prime\n"
          ]
        }
      ]
    },
    {
      "cell_type": "code",
      "source": [
        "# Write a Python program to print all Prime numbers between 1 to n\n",
        "n=int(input(\"Enter a number:\"))\n",
        "for i in range(1,n+1):\n",
        "    k=0\n",
        "    for j in range(2,i//2+1):\n",
        "        if i%j==0:\n",
        "            k=k+1\n",
        "    if k<=0:\n",
        "        print(i)\n",
        ""
      ],
      "metadata": {
        "colab": {
          "base_uri": "https://localhost:8080/"
        },
        "id": "uLnM9Gpff53h",
        "outputId": "1ad96093-5a58-4f35-f40e-f309dbbd58f2"
      },
      "execution_count": 26,
      "outputs": [
        {
          "output_type": "stream",
          "name": "stdout",
          "text": [
            "Enter a number:100\n",
            "1\n",
            "2\n",
            "3\n",
            "5\n",
            "7\n",
            "11\n",
            "13\n",
            "17\n",
            "19\n",
            "23\n",
            "29\n",
            "31\n",
            "37\n",
            "41\n",
            "43\n",
            "47\n",
            "53\n",
            "59\n",
            "61\n",
            "67\n",
            "71\n",
            "73\n",
            "79\n",
            "83\n",
            "89\n",
            "97\n"
          ]
        }
      ]
    },
    {
      "cell_type": "code",
      "source": [
        "#Write a Python program to find sum of all prime numbers between 1 to n.\n",
        "n = int(input(\"Find sum of prime numbers upto : \"))\n",
        "sum = 0\n",
        "for num in range(2, n+ 1):\n",
        "    i = 2\n",
        "    for i in range(2, num):\n",
        "        if (int(num % i) == 0):\n",
        "            i = num\n",
        "            break;\n",
        "\n",
        "    if i is not num:\n",
        "        sum += num\n",
        "\n",
        "print(\"\\nSum of all prime numbers upto\", n, \":\", sum)"
      ],
      "metadata": {
        "colab": {
          "base_uri": "https://localhost:8080/"
        },
        "id": "0Th2F3RblJAx",
        "outputId": "ba94835d-3c84-48d2-b46e-2dd58a620f0a"
      },
      "execution_count": 27,
      "outputs": [
        {
          "output_type": "stream",
          "name": "stdout",
          "text": [
            "Find sum of prime numbers upto : 10000\n",
            "\n",
            "Sum of all prime numbers upto 10000 : 5736394\n"
          ]
        }
      ]
    },
    {
      "cell_type": "code",
      "source": [
        "#Write a Python program to check whether a number is Armstrong number or not\n",
        "n=int(input(\"Enter a number:\"))\n",
        "sum=0\n",
        "temp=n\n",
        "while temp>0:\n",
        "    digit=temp%10\n",
        "    sum+=digit**3\n",
        "    temp//=10\n",
        "    if n==sum:\n",
        "        print(n,\"is an Armstrong number\")\n",
        "    else:\n",
        "        print(n,\"is not an Armstrong number\")"
      ],
      "metadata": {
        "colab": {
          "base_uri": "https://localhost:8080/"
        },
        "id": "Blhq8f3nlI6X",
        "outputId": "535cb32f-4252-4af6-c6fc-dd7f89e3ade0"
      },
      "execution_count": 30,
      "outputs": [
        {
          "output_type": "stream",
          "name": "stdout",
          "text": [
            "Enter a number:5\n",
            "5 is not an Armstrong number\n"
          ]
        }
      ]
    },
    {
      "cell_type": "code",
      "source": [
        "#Write a Python program to print the given star patterns.\n",
        "for i in range(1,6):\n",
        "    for j in range(1,i+1):\n",
        "        print(\"*\",end=\"\")\n",
        "    print()"
      ],
      "metadata": {
        "colab": {
          "base_uri": "https://localhost:8080/"
        },
        "id": "YZFMDMkGlIxg",
        "outputId": "bb859418-7c5f-4d01-e525-b623919c59ab"
      },
      "execution_count": 35,
      "outputs": [
        {
          "output_type": "stream",
          "name": "stdout",
          "text": [
            "*\n",
            "**\n",
            "***\n",
            "****\n",
            "*****\n"
          ]
        }
      ]
    },
    {
      "cell_type": "code",
      "source": [
        "#Write a Python program to print the given number patterns.\n",
        "for i in range(1,6):\n",
        "    for j in range(1,i+1):\n",
        "        print(j,end=\"\")\n",
        "    print()"
      ],
      "metadata": {
        "colab": {
          "base_uri": "https://localhost:8080/"
        },
        "id": "wNKKMTFxn2ci",
        "outputId": "ee8ba57b-43cb-4467-dcf8-9140a97bc5a3"
      },
      "execution_count": 38,
      "outputs": [
        {
          "output_type": "stream",
          "name": "stdout",
          "text": [
            "1\n",
            "12\n",
            "123\n",
            "1234\n",
            "12345\n"
          ]
        }
      ]
    }
  ]
}