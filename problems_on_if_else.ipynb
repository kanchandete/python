{
  "nbformat": 4,
  "nbformat_minor": 0,
  "metadata": {
    "colab": {
      "provenance": []
    },
    "kernelspec": {
      "name": "python3",
      "display_name": "Python 3"
    },
    "language_info": {
      "name": "python"
    }
  },
  "cells": [
    {
      "cell_type": "code",
      "execution_count": 1,
      "metadata": {
        "colab": {
          "base_uri": "https://localhost:8080/"
        },
        "id": "f7SOBkYBY_Wf",
        "outputId": "22a2e3e9-2cec-4e4a-8a22-2e6edd29ff39"
      },
      "outputs": [
        {
          "output_type": "stream",
          "name": "stdout",
          "text": [
            "Enter the first number: 20\n",
            "Enter the second number: 10\n",
            "20 is greater than 10\n"
          ]
        }
      ],
      "source": [
        "#Write a Python program to find maximum between two numbers\n",
        "a = int(input(\"Enter the first number: \"))\n",
        "b = int(input(\"Enter the second number: \"))\n",
        "if a > b:\n",
        "    print(a, \"is greater than\", b)\n",
        "else:\n",
        "    print(b, \"is greater than\", a)\n",
        ""
      ]
    },
    {
      "cell_type": "code",
      "source": [
        "#Write a Python program to find maximum among three numbers.\n",
        "a=int(input(\"Enter first number:\"))\n",
        "b=int(input(\"Enter second number:\"))\n",
        "c=int(input(\"Enter third number:\"))\n",
        "if a>b and a>c:\n",
        "    print(a,\"is largest\")\n",
        "elif b>a and b>c:\n",
        "    print(b,\"is largest\")\n",
        "else:\n",
        "    print(c,\"is largest\")"
      ],
      "metadata": {
        "colab": {
          "base_uri": "https://localhost:8080/"
        },
        "id": "z-vh1athZOMS",
        "outputId": "9e6dcbf6-c87d-45bf-efcf-d44a6e116727"
      },
      "execution_count": 2,
      "outputs": [
        {
          "output_type": "stream",
          "name": "stdout",
          "text": [
            "Enter first number:10\n",
            "Enter second number:20\n",
            "Enter third number:30\n",
            "30 is largest\n"
          ]
        }
      ]
    },
    {
      "cell_type": "code",
      "source": [
        "#Write a Python program to check whether a number is negative, positive or zero.\n",
        "num = float(input(\"Enter a number: \"))\n",
        "if num > 0:\n",
        "   print(\"Positive number\")\n",
        "elif num == 0:\n",
        "   print(\"Zero\")\n",
        "else:\n",
        "   print(\"Negative number\")"
      ],
      "metadata": {
        "colab": {
          "base_uri": "https://localhost:8080/"
        },
        "id": "aWnuqJWfZORo",
        "outputId": "75105a89-fbf0-42e2-944b-ee691385c3c6"
      },
      "execution_count": 5,
      "outputs": [
        {
          "output_type": "stream",
          "name": "stdout",
          "text": [
            "Enter a number: 22\n",
            "Positive number\n"
          ]
        }
      ]
    },
    {
      "cell_type": "code",
      "source": [
        "#Write a Python program to check whether a number is divisible by 5 and 11or not.\n",
        "num = int(input(\"Enter a number: \"))\n",
        "if (num % 5 == 0) and (num % 11 == 0):\n",
        "   print(\"The number is divisible by 5 and 11\")\n",
        "else:\n",
        "   print(\"The number is not divisible by 5 and 11\")"
      ],
      "metadata": {
        "colab": {
          "base_uri": "https://localhost:8080/"
        },
        "id": "P4me9XLUZOXJ",
        "outputId": "06a83f3e-3c95-4fb5-d4e9-8616f2efe3d2"
      },
      "execution_count": 6,
      "outputs": [
        {
          "output_type": "stream",
          "name": "stdout",
          "text": [
            "Enter a number: 10\n",
            "The number is not divisible by 5 and 11\n"
          ]
        }
      ]
    },
    {
      "cell_type": "code",
      "source": [
        "# Write a Python program to check whether a number is even or odd.\n",
        "num = int(input(\"Enter a number: \"))\n",
        "if (num % 2) == 0:\n",
        "   print(\"{0} is Even\".format(num))\n",
        "else:\n",
        "   print(\"{0} is Odd\".format(num))"
      ],
      "metadata": {
        "colab": {
          "base_uri": "https://localhost:8080/"
        },
        "id": "MSMlKVrlZOZ4",
        "outputId": "331957b6-0c3c-4864-eb0e-f312bd41ca3a"
      },
      "execution_count": 7,
      "outputs": [
        {
          "output_type": "stream",
          "name": "stdout",
          "text": [
            "Enter a number: 20\n",
            "20 is Even\n"
          ]
        }
      ]
    },
    {
      "cell_type": "code",
      "source": [
        "#Write a Python program to check whether a year is leap year or not.\n",
        "year = int(input(\"Enter a year: \"))\n",
        "if (year % 4 == 0 and year % 100 != 0) or (year % 400 == 0):\n",
        "    print(year, \"is a leap year\")\n",
        "else:\n",
        "    print(year, \"is not a leap year\")"
      ],
      "metadata": {
        "colab": {
          "base_uri": "https://localhost:8080/"
        },
        "id": "adm25vYjajcE",
        "outputId": "21ff72b2-c390-4fcf-92b3-04c06e851801"
      },
      "execution_count": 8,
      "outputs": [
        {
          "output_type": "stream",
          "name": "stdout",
          "text": [
            "Enter a year: 1994\n",
            "1994 is not a leap year\n"
          ]
        }
      ]
    },
    {
      "cell_type": "code",
      "source": [
        "#Write a Python program to check whether a character is alphabet or not\n",
        "ch = input(\"Enter a character: \")\n",
        "if (ch >= 'a' and ch <= 'z') or (ch >= 'A' and ch <= 'Z'):\n",
        "    print(ch, \"is an alphabet\")\n",
        "else:\n",
        "    print(ch, \"is not an alphabet\")"
      ],
      "metadata": {
        "colab": {
          "base_uri": "https://localhost:8080/"
        },
        "id": "xvG3OXvkakQU",
        "outputId": "b4d3c5ad-b8a4-410e-a4db-8aef43338b04"
      },
      "execution_count": 9,
      "outputs": [
        {
          "output_type": "stream",
          "name": "stdout",
          "text": [
            "Enter a character: A\n",
            "A is an alphabet\n"
          ]
        }
      ]
    },
    {
      "cell_type": "code",
      "source": [
        "#Write a Python program to input any alphabet and check whether it is vowel or consonant.\n",
        "ch = input(\"Enter a character: \")\n",
        "if ch in ('a', 'e', 'i', 'o', 'u'):\n",
        "    print(ch, \"is a vowel\")\n",
        "else:\n",
        "    print(ch, \"is a consonant\")"
      ],
      "metadata": {
        "colab": {
          "base_uri": "https://localhost:8080/"
        },
        "id": "YMS4yc0OakNA",
        "outputId": "ea376ae5-5cee-44b2-8f3a-9d8677b4ad0a"
      },
      "execution_count": 10,
      "outputs": [
        {
          "output_type": "stream",
          "name": "stdout",
          "text": [
            "Enter a character: e\n",
            "e is a vowel\n"
          ]
        }
      ]
    },
    {
      "cell_type": "code",
      "source": [
        "#Write a Python program to check whether a character is uppercase or lowercase alphabet.\n",
        "ch = input(\"Enter a character: \")\n",
        "if ch.isupper():\n",
        "    print(ch, \"is an uppercase alphabet\")\n",
        "elif ch.islower():\n",
        "    print(ch, \"is a lowercase alphabet\")\n",
        "else:\n",
        "    print(ch, \"is not an alphabet\")"
      ],
      "metadata": {
        "colab": {
          "base_uri": "https://localhost:8080/"
        },
        "id": "oGIvSFyEakKr",
        "outputId": "b40f408f-e6a3-4f6a-dc3c-769b9e88a0e5"
      },
      "execution_count": 11,
      "outputs": [
        {
          "output_type": "stream",
          "name": "stdout",
          "text": [
            "Enter a character: K\n",
            "K is an uppercase alphabet\n"
          ]
        }
      ]
    },
    {
      "cell_type": "code",
      "source": [
        "#Write a Python program to input angles of a triangle and check whether triangle is valid or not.\n",
        "a = int(input(\"Enter the first angle: \"))\n",
        "b = int(input(\"Enter the second angle: \"))\n",
        "c = int(input(\"Enter the third angle: \"))\n",
        "if a + b + c == 180:\n",
        "    print(\"The triangle is valid\")\n",
        "else:\n",
        "    print(\"The triangle is not valid\")"
      ],
      "metadata": {
        "colab": {
          "base_uri": "https://localhost:8080/"
        },
        "id": "wEaYBB1zckk4",
        "outputId": "3eb913bb-ca30-4e7b-bef6-ee1c6ce3c2d8"
      },
      "execution_count": 15,
      "outputs": [
        {
          "output_type": "stream",
          "name": "stdout",
          "text": [
            "Enter the first angle: 2\n",
            "Enter the second angle: 4\n",
            "Enter the third angle: 6\n",
            "The triangle is not valid\n"
          ]
        }
      ]
    },
    {
      "cell_type": "code",
      "source": [
        "#Write a Python program to input all sides of a triangle and check whether triangle is valid or not.\n",
        "a = int(input(\"Enter the first side: \"))\n",
        "b = int(input(\"Enter the second side: \"))\n",
        "c = int(input(\"Enter the third side: \"))\n",
        "if a + b > c and b + c > a and c + a > b:\n",
        "    print(\"The triangle is valid\")\n",
        "else:\n",
        "    print(\"The triangle is not valid\")"
      ],
      "metadata": {
        "colab": {
          "base_uri": "https://localhost:8080/"
        },
        "id": "ZXOJLHAfakAU",
        "outputId": "eb9f2d77-2af7-428e-aea0-f1082491d09a"
      },
      "execution_count": 16,
      "outputs": [
        {
          "output_type": "stream",
          "name": "stdout",
          "text": [
            "Enter the first side: 2\n",
            "Enter the second side: 4\n",
            "Enter the third side: 6\n",
            "The triangle is not valid\n"
          ]
        }
      ]
    },
    {
      "cell_type": "code",
      "source": [
        "#Write a Python program to check whether the triangle is equilateral, isosceles or scalene triangle.\n",
        "a = int(input(\"Enter the first side: \"))\n",
        "b = int(input(\"Enter the second side: \"))\n",
        "c = int(input(\"Enter the third side: \"))\n",
        "if a == b == c:\n",
        "    print(\"The triangle is equilateral\")\n",
        "elif a == b or b == c or c == a:\n",
        "    print(\"The triangle is isosceles\")\n",
        "else:\n",
        "    print(\"The triangle is scalene\")"
      ],
      "metadata": {
        "colab": {
          "base_uri": "https://localhost:8080/"
        },
        "id": "yjn9zeEkc9XZ",
        "outputId": "b1f96af8-00d9-4484-8db5-7d8bc4258de1"
      },
      "execution_count": 17,
      "outputs": [
        {
          "output_type": "stream",
          "name": "stdout",
          "text": [
            "Enter the first side: 20\n",
            "Enter the second side: 20\n",
            "Enter the third side: 20\n",
            "The triangle is equilateral\n"
          ]
        }
      ]
    },
    {
      "cell_type": "code",
      "source": [
        "#Write a Python program to calculate profit or loss. Input is selling cost and actual cost.\n",
        "a = int(input(\"Enter the selling cost: \"))\n",
        "b = int(input(\"Enter the actual cost: \"))\n",
        "if a > b:\n",
        "    print(\"The profit is\", a - b)\n",
        "else:\n",
        "    print(\"The loss is\", b - a)"
      ],
      "metadata": {
        "colab": {
          "base_uri": "https://localhost:8080/"
        },
        "id": "fabShaM4c9U1",
        "outputId": "dd7f4d76-c58d-4523-9787-6b5b46cbd4bb"
      },
      "execution_count": 18,
      "outputs": [
        {
          "output_type": "stream",
          "name": "stdout",
          "text": [
            "Enter the selling cost: 50\n",
            "Enter the actual cost: 10\n",
            "The profit is 40\n"
          ]
        }
      ]
    },
    {
      "cell_type": "code",
      "source": [
        "#Write a Python program to input marks of five subjects Physics, Chemistry,Biology, Mathematics and Computer. Calculate percentage and grade according to following:\n",
        "#Percentage >= 90% : Grade A\n",
        "#Percentage >= 80% : Grade B\n",
        "#Percentage >= 70% : Grade C\n",
        "#Percentage >= 60% : Grade D\n",
        "#Percentage >= 40% : Grade E\n",
        "#Percentage < 40% : Grade F\n",
        "a = int(input(\"Enter the marks of Physics: \"))\n",
        "b = int(input(\"Enter the marks of Chemistry: \"))\n",
        "c = int(input(\"Enter the marks of Biology: \"))\n",
        "d = int(input(\"Enter the marks of Mathematics: \"))\n",
        "e = int(input(\"Enter the marks of Computer: \"))\n",
        "per = (a+b+c+d+e)/5\n",
        "if per >= 90:\n",
        "    print(\"Grade A\")\n",
        "elif per >= 80:\n",
        "    print(\"Grade B\")\n",
        "elif per >= 70:\n",
        "    print(\"Grade C\")\n",
        "    print(\"Grade D\")\n",
        "elif per >= 60:\n",
        "    print(\"Grade E\")"
      ],
      "metadata": {
        "colab": {
          "base_uri": "https://localhost:8080/"
        },
        "id": "w8DuJb-DdOmC",
        "outputId": "9610514e-8553-4b11-b7af-52a5f237e50c"
      },
      "execution_count": 23,
      "outputs": [
        {
          "output_type": "stream",
          "name": "stdout",
          "text": [
            "Enter the marks of Physics: 90\n",
            "Enter the marks of Chemistry: 95\n",
            "Enter the marks of Biology: 70\n",
            "Enter the marks of Mathematics: 80\n",
            "Enter the marks of Computer: 85\n",
            "Grade B\n"
          ]
        }
      ]
    }
  ]
}