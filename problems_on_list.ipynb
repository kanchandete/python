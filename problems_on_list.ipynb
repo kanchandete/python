{
  "nbformat": 4,
  "nbformat_minor": 0,
  "metadata": {
    "colab": {
      "provenance": []
    },
    "kernelspec": {
      "name": "python3",
      "display_name": "Python 3"
    },
    "language_info": {
      "name": "python"
    }
  },
  "cells": [
    {
      "cell_type": "code",
      "source": [
        "# Write a Python program to shuffle and print a specified list\n",
        "from random import shuffle\n",
        "color = ['Red', 'Green', 'White', 'Black', 'Pink', 'Yellow']\n",
        "shuffle(color)\n",
        "print(color)"
      ],
      "metadata": {
        "colab": {
          "base_uri": "https://localhost:8080/"
        },
        "id": "8vp15NYxpvg-",
        "outputId": "b7a2fd11-1767-4d14-d285-bd9116b98fd9"
      },
      "execution_count": 1,
      "outputs": [
        {
          "output_type": "stream",
          "name": "stdout",
          "text": [
            "['Pink', 'White', 'Green', 'Black', 'Red', 'Yellow']\n"
          ]
        }
      ]
    },
    {
      "cell_type": "code",
      "source": [
        "#Write a Python program to generate and print a list of first and last 5 elements where the values are square of numbers between 1 and 30 (both included)\n",
        "l = list()\n",
        "for i in range(1,31):\n",
        "    l.append(i**2)\n",
        "print(l[:5])\n",
        "print(l[-5:])"
      ],
      "metadata": {
        "colab": {
          "base_uri": "https://localhost:8080/"
        },
        "id": "vQkRfr3dpvj0",
        "outputId": "15a1c500-6b79-4fbc-995c-2cbd81f79e58"
      },
      "execution_count": 2,
      "outputs": [
        {
          "output_type": "stream",
          "name": "stdout",
          "text": [
            "[1, 4, 9, 16, 25]\n",
            "[676, 729, 784, 841, 900]\n"
          ]
        }
      ]
    },
    {
      "cell_type": "code",
      "source": [
        "#Write a Python program to generate and print a list except for the first 5 elements, where the values are square of numbers between 1 and 30 (both included).\n",
        "l = list()\n",
        "for i in range(1,31):\n",
        "    l.append(i**2)\n",
        "print(l[5:])"
      ],
      "metadata": {
        "colab": {
          "base_uri": "https://localhost:8080/"
        },
        "id": "BAptAD2fpvmj",
        "outputId": "d3746d3a-a38b-4d3e-d05a-9e61813241c0"
      },
      "execution_count": 3,
      "outputs": [
        {
          "output_type": "stream",
          "name": "stdout",
          "text": [
            "[36, 49, 64, 81, 100, 121, 144, 169, 196, 225, 256, 289, 324, 361, 400, 441, 484, 529, 576, 625, 676, 729, 784, 841, 900]\n"
          ]
        }
      ]
    },
    {
      "cell_type": "code",
      "source": [
        "#Write a Python program to generate all permutations of a list in Python.\n",
        "import itertools\n",
        "print(list(itertools.permutations([1,2,3])))"
      ],
      "metadata": {
        "colab": {
          "base_uri": "https://localhost:8080/"
        },
        "id": "VDRlyOaZpvsB",
        "outputId": "3088c19c-4b63-4b4c-fe40-1249c18eadc5"
      },
      "execution_count": 4,
      "outputs": [
        {
          "output_type": "stream",
          "name": "stdout",
          "text": [
            "[(1, 2, 3), (1, 3, 2), (2, 1, 3), (2, 3, 1), (3, 1, 2), (3, 2, 1)]\n"
          ]
        }
      ]
    },
    {
      "cell_type": "code",
      "source": [
        "#Write a Python program access the index of a list.\n",
        "nums = [5, 15, 35, 8, 98]\n",
        "for num_index, num_val in enumerate(nums):\n",
        "    print(num_index, num_val)"
      ],
      "metadata": {
        "colab": {
          "base_uri": "https://localhost:8080/"
        },
        "id": "nk7stR5cpvx6",
        "outputId": "b3714522-cc0c-4ed4-bd2f-4ef1b3e41030"
      },
      "execution_count": 8,
      "outputs": [
        {
          "output_type": "stream",
          "name": "stdout",
          "text": [
            "0 5\n",
            "1 15\n",
            "2 35\n",
            "3 8\n",
            "4 98\n"
          ]
        }
      ]
    },
    {
      "cell_type": "code",
      "source": [
        "#Write a Python program to convert a list of characters into a string.\n",
        "list = ['p','y','t','h','o','n']\n",
        "str = ''.join(list)\n",
        "print(str)"
      ],
      "metadata": {
        "colab": {
          "base_uri": "https://localhost:8080/"
        },
        "id": "Fu6vZ12cpv05",
        "outputId": "295c216a-b06e-4dad-db00-2a6036aee4e1"
      },
      "execution_count": 9,
      "outputs": [
        {
          "output_type": "stream",
          "name": "stdout",
          "text": [
            "python\n"
          ]
        }
      ]
    },
    {
      "cell_type": "code",
      "source": [
        "# Write a Python program to find the index of an item in a specified list\n",
        "lst = [10, 20, 30, 40, 50]\n",
        "item = 30\n",
        "res = lst.index(item)\n",
        "print(f\"The index of {item} in the list is: {res}\")"
      ],
      "metadata": {
        "colab": {
          "base_uri": "https://localhost:8080/"
        },
        "id": "SheAfjFQpv4R",
        "outputId": "b2301dd0-bfde-40ed-e7ac-4c56d74e0fce"
      },
      "execution_count": 10,
      "outputs": [
        {
          "output_type": "stream",
          "name": "stdout",
          "text": [
            "The index of 30 in the list is: 2\n"
          ]
        }
      ]
    },
    {
      "cell_type": "code",
      "source": [
        "#Write a Python program to append a list to the second list.\n",
        "lst1 = [1, 2, 3, 0]\n",
        "lst2 = ['Red', 'Green', 'Black']\n",
        "final_list = lst1 + lst2\n",
        "print(final_list)"
      ],
      "metadata": {
        "colab": {
          "base_uri": "https://localhost:8080/"
        },
        "id": "1iZ-bmjCs82E",
        "outputId": "90de950a-a668-42af-f071-25969460182d"
      },
      "execution_count": 12,
      "outputs": [
        {
          "output_type": "stream",
          "name": "stdout",
          "text": [
            "[1, 2, 3, 0, 'Red', 'Green', 'Black']\n"
          ]
        }
      ]
    },
    {
      "cell_type": "code",
      "source": [
        "# Write a Python program to select an item randomly from a list.\n",
        "import random\n",
        "lst = [100,1,2,3,30,40]\n",
        "print(random.choice(lst))"
      ],
      "metadata": {
        "colab": {
          "base_uri": "https://localhost:8080/"
        },
        "id": "et_VwSmss85H",
        "outputId": "05fce3ec-9179-4c7a-ded5-48f800c2b405"
      },
      "execution_count": 14,
      "outputs": [
        {
          "output_type": "stream",
          "name": "stdout",
          "text": [
            "40\n"
          ]
        }
      ]
    },
    {
      "cell_type": "code",
      "source": [
        "#Write a python program to check whether two lists are circularly identical.\n",
        "list1 = [10, 10, 0, 0, 10]\n",
        "list2 = [10, 10, 10, 0, 0]\n",
        "list1 = list1 + [list1[0]]\n",
        "list2 = list2 + [list2[0]]\n",
        "if list1 == list2:\n",
        "    print(\"The lists are circularly identical.\")\n",
        "else:\n",
        "    print(\"The lists are not circularly identical.\")\n"
      ],
      "metadata": {
        "colab": {
          "base_uri": "https://localhost:8080/"
        },
        "id": "LYXqFZYFs87d",
        "outputId": "308347b8-2866-4f10-f4ea-f470a8caad79"
      },
      "execution_count": 21,
      "outputs": [
        {
          "output_type": "stream",
          "name": "stdout",
          "text": [
            "The lists are not circularly identical.\n"
          ]
        }
      ]
    },
    {
      "cell_type": "code",
      "source": [
        "#Write a Python program to find the second smallest number in a list\n",
        "list = [10, 20, 4, 45, 99]\n",
        "list.sort()\n",
        "print(list[1])"
      ],
      "metadata": {
        "colab": {
          "base_uri": "https://localhost:8080/"
        },
        "id": "kedRYJETs898",
        "outputId": "965ba641-0748-4dc6-99c3-9a7fdf9e0e21"
      },
      "execution_count": 22,
      "outputs": [
        {
          "output_type": "stream",
          "name": "stdout",
          "text": [
            "10\n"
          ]
        }
      ]
    },
    {
      "cell_type": "code",
      "source": [
        "#Write a Python program to find the second largest number in a list.\n",
        "list = [10,20,30,40,50]\n",
        "list.sort()\n",
        "print(\"The second largest number in the list is:\",list[-2])"
      ],
      "metadata": {
        "colab": {
          "base_uri": "https://localhost:8080/"
        },
        "id": "CByBGx3Ps9Am",
        "outputId": "3961b92d-2e50-456c-8fa2-ab7dbf140456"
      },
      "execution_count": 23,
      "outputs": [
        {
          "output_type": "stream",
          "name": "stdout",
          "text": [
            "The second largest number in the list is: 40\n"
          ]
        }
      ]
    },
    {
      "cell_type": "code",
      "source": [
        "#Write a Python program to change the position of every n-th value with the (n+1)th in a list.\n",
        "#Sample list: [0,1,2,3,4,5]\n",
        "#Expected Output: [0, 3, 2, 5, 4, 1]\n",
        "list = [0,1,2,3,4,5]\n",
        "list[1],list[3] = list[3],list[1]\n",
        "list[3],list[5] = list[5],list[3]\n",
        "print(list)"
      ],
      "metadata": {
        "colab": {
          "base_uri": "https://localhost:8080/"
        },
        "id": "IacQ00WkyXwI",
        "outputId": "76933a7b-ee69-4a77-b52d-c29395334617"
      },
      "execution_count": 38,
      "outputs": [
        {
          "output_type": "stream",
          "name": "stdout",
          "text": [
            "[0, 3, 2, 5, 4, 1]\n"
          ]
        }
      ]
    },
    {
      "cell_type": "code",
      "source": [
        "#Write a Python program to convert a string to a list.\n",
        "str = \"hello world\"\n",
        "list = str.split()\n",
        "print(list)"
      ],
      "metadata": {
        "colab": {
          "base_uri": "https://localhost:8080/"
        },
        "id": "8AWOeK1uAe_Y",
        "outputId": "bd5a6e36-2065-41c4-f976-1935885594c3"
      },
      "execution_count": 45,
      "outputs": [
        {
          "output_type": "stream",
          "name": "stdout",
          "text": [
            "['hello', 'world']\n"
          ]
        }
      ]
    },
    {
      "cell_type": "code",
      "source": [
        "# Write a Python program to replace the last element in a list with another list.\n",
        "#Sample data : [1, 3, 5, 7, 9, 10], [2, 4, 6, 8]\n",
        "#Expected Output: [1, 3, 5, 7, 9, 2, 4, 6, 8]\n",
        "list1 = [1, 3, 5, 7, 9, 10]\n",
        "list2 = [2, 4, 6, 8]\n",
        "list1[-1:] = list2\n",
        "print(list1)"
      ],
      "metadata": {
        "colab": {
          "base_uri": "https://localhost:8080/"
        },
        "id": "BI4ndfL5AfCI",
        "outputId": "21f57a5b-1bc1-4665-bc8c-fb4d471bb189"
      },
      "execution_count": 46,
      "outputs": [
        {
          "output_type": "stream",
          "name": "stdout",
          "text": [
            "[1, 3, 5, 7, 9, 2, 4, 6, 8]\n"
          ]
        }
      ]
    },
    {
      "cell_type": "code",
      "source": [
        "#Write a Python program to check if the n-th element exists in a given list.\n",
        "list = [1,2,3,4,5,6,7,8,9]\n",
        "n = 5\n",
        "if n in list:\n",
        "    print(f\"The {n}th element exists in the list\")"
      ],
      "metadata": {
        "colab": {
          "base_uri": "https://localhost:8080/"
        },
        "id": "0iubsFJBAfE6",
        "outputId": "4f3812a8-265d-465b-9ba8-950c46abd79b"
      },
      "execution_count": 47,
      "outputs": [
        {
          "output_type": "stream",
          "name": "stdout",
          "text": [
            "The 5th element exists in the list\n"
          ]
        }
      ]
    },
    {
      "cell_type": "code",
      "source": [
        "#Write a Python program to check if all dictionaries in a list are empty or not.\n",
        "#Sample list : [{},{},{}]\n",
        "#Return value : True\n",
        "#Sample list : [{1,2},{},{}]\n",
        "#Return value : False\n",
        "l=[{},{},{}]\n",
        "print(all(not d for d in l))\n",
        "l=[{1,2},{},{}]\n",
        "print(all(not d for d in l))"
      ],
      "metadata": {
        "colab": {
          "base_uri": "https://localhost:8080/"
        },
        "id": "3kr_RYHpAfMW",
        "outputId": "6f96cd09-7ad6-4b27-86f5-48845426254f"
      },
      "execution_count": 50,
      "outputs": [
        {
          "output_type": "stream",
          "name": "stdout",
          "text": [
            "True\n",
            "False\n"
          ]
        }
      ]
    },
    {
      "cell_type": "code",
      "source": [
        "#Write a Python program to remove duplicates from a list of lists.\n",
        "#Sample list : [[10, 20], [40], [30, 56, 25], [10, 20], [33], [40]]\n",
        "#New List : [[10, 20], [40], [30, 56, 25], [33]]\n",
        "list = [[10, 20], [40], [30, 56, 25], [10, 20], [33], [40]]\n",
        "new_list = []\n",
        "for i in list:\n",
        "    if i not in new_list:\n",
        "        new_list.append(i)\n",
        "print(new_list)"
      ],
      "metadata": {
        "colab": {
          "base_uri": "https://localhost:8080/"
        },
        "id": "hhLanwsuAfO-",
        "outputId": "6aad0df5-6cc7-493c-b16c-567baa8f84cd"
      },
      "execution_count": 52,
      "outputs": [
        {
          "output_type": "stream",
          "name": "stdout",
          "text": [
            "[[10, 20], [40], [30, 56, 25], [33]]\n"
          ]
        }
      ]
    }
  ]
}